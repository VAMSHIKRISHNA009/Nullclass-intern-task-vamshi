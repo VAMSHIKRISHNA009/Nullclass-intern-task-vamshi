{
 "cells": [
  {
   "cell_type": "code",
   "execution_count": null,
   "id": "54c3c1f3-3179-4402-ac4b-5d758050578a",
   "metadata": {},
   "outputs": [],
   "source": [
    "import tkinter as tk\n",
    "from tkinter import messagebox\n",
    "from datetime import datetime\n",
    "from googletrans import Translator\n",
    "\n",
    "class TranslatorApp:\n",
    "    def _init_(self, root):\n",
    "        self.root = root\n",
    "        self.root.title(\"English to Hindi Translator\")\n",
    "        \n",
    "        self.translator = Translator()\n",
    "        \n",
    "        self.input_label = tk.Label(root, text=\"Enter English Word:\")\n",
    "        self.input_label.pack()\n",
    "        \n",
    "        self.input_entry = tk.Entry(root)\n",
    "        self.input_entry.pack()\n",
    "        \n",
    "        self.translate_button = tk.Button(root, text=\"Translate\", command=self.translate)\n",
    "        self.translate_button.pack()\n",
    "        \n",
    "        self.output_label = tk.Label(root, text=\"Translated Hindi Word:\")\n",
    "        self.output_label.pack()\n",
    "        \n",
    "        self.output_text = tk.Text(root, height=1, width=30)\n",
    "        self.output_text.pack()\n",
    "\n",
    "    def translate(self):\n",
    "        word = self.input_entry.get()\n",
    "        if word:\n",
    "            if word[0].lower() in 'aeiou':\n",
    "                current_time = datetime.now().hour\n",
    "                if 21 <= current_time < 22:\n",
    "                    messagebox.showinfo(\"Error\", \"This word starts with a vowel. Please provide another word.\")\n",
    "                else:\n",
    "                    translated_word = self.translator.translate(word, src='en', dest='hi')\n",
    "                    self.output_text.delete(1.0, tk.END)\n",
    "                    self.output_text.insert(tk.END, translated_word.text)\n",
    "            else:\n",
    "                translated_word = self.translator.translate(word, src='en', dest='hi')\n",
    "                self.output_text.delete(1.0, tk.END)\n",
    "                self.output_text.insert(tk.END, translated_word.text)\n",
    "\n",
    "if _name_ == \"_main_\":\n",
    "    root = tk.Tk()\n",
    "    app = TranslatorApp(root)\n",
    "    root.mainloop()"
   ]
  },
  {
   "cell_type": "code",
   "execution_count": null,
   "id": "36e74cad-c40e-4f54-b157-d6d612a21ce6",
   "metadata": {},
   "outputs": [],
   "source": []
  }
 ],
 "metadata": {
  "kernelspec": {
   "display_name": "Python 3 (ipykernel)",
   "language": "python",
   "name": "python3"
  },
  "language_info": {
   "codemirror_mode": {
    "name": "ipython",
    "version": 3
   },
   "file_extension": ".py",
   "mimetype": "text/x-python",
   "name": "python",
   "nbconvert_exporter": "python",
   "pygments_lexer": "ipython3",
   "version": "3.12.4"
  }
 },
 "nbformat": 4,
 "nbformat_minor": 5
}
