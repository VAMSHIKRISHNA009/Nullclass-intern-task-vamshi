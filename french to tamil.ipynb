{
 "cells": [
  {
   "cell_type": "code",
   "execution_count": null,
   "id": "54c3c1f3-3179-4402-ac4b-5d758050578a",
   "metadata": {},
   "outputs": [],
   "source": [
    "import tkinter as tk\n",
    "from tkinter import messagebox\n",
    "\n",
    "# Sample dictionary for French to Tamil translation\n",
    "translation_dict ={'pomme': 'ஆப்பிள்',\n",
    "'chien': 'நாய்',\n",
    "'fleur': 'மலர்',\n",
    "'table': 'மேசை',\n",
    "'livre': 'புத்தகம்'}\n",
    "\n",
    "\n",
    "\n",
    "    \n",
    "\n",
    "\n",
    "def translate():\n",
    "    french_word = entry.get()\n",
    "    if len(french_word) == 5:\n",
    "        tamil_word = translation_dict.get(french_word, \"Translation not found\")\n",
    "        output_label.config(text=tamil_word)\n",
    "    else:\n",
    "        messagebox.showwarning(\"Warning\", \"Please enter a French word with exactly five letters.\")\n",
    "\n",
    "# Setting up the GUI\n",
    "root = tk.Tk()\n",
    "root.title(\"French to Tamil Translator\")\n",
    "\n",
    "# Input section\n",
    "entry_label = tk.Label(root, text=\"Enter a French word (5 letters):\")\n",
    "entry_label.pack()\n",
    "\n",
    "entry = tk.Entry(root)\n",
    "entry.pack()\n",
    "\n",
    "translate_button = tk.Button(root, text=\"Translate\", command=translate)\n",
    "translate_button.pack()\n",
    "\n",
    "# Output section\n",
    "output_label = tk.Label(root, text=\"\")\n",
    "output_label.pack()\n",
    "\n",
    "root.mainloop()"
   ]
  },
  {
   "cell_type": "code",
   "execution_count": null,
   "id": "36e74cad-c40e-4f54-b157-d6d612a21ce6",
   "metadata": {},
   "outputs": [],
   "source": []
  }
 ],
 "metadata": {
  "kernelspec": {
   "display_name": "Python 3 (ipykernel)",
   "language": "python",
   "name": "python3"
  },
  "language_info": {
   "codemirror_mode": {
    "name": "ipython",
    "version": 3
   },
   "file_extension": ".py",
   "mimetype": "text/x-python",
   "name": "python",
   "nbconvert_exporter": "python",
   "pygments_lexer": "ipython3",
   "version": "3.12.4"
  }
 },
 "nbformat": 4,
 "nbformat_minor": 5
}
