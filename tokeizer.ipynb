{
 "cells": [
  {
   "cell_type": "code",
   "execution_count": null,
   "id": "54c3c1f3-3179-4402-ac4b-5d758050578a",
   "metadata": {},
   "outputs": [],
   "source": [
    "import re\n",
    "\n",
    "class Tokenizer:\n",
    "    def _init_(self, text):\n",
    "        self.text = text\n",
    "\n",
    "    def tokenize(self):\n",
    "        \n",
    "        # Remove leading/trailing whitespaces\n",
    "        self.text = self.text.strip()\n",
    "        \n",
    "        # Split text into words based on spaces and punctuation\n",
    "        tokens = re.findall(r'\\b\\w+\\b|[^\\w\\s]', self.text)\n",
    "        \n",
    "        return tokens\n",
    "\n",
    "Example usage\n",
    "text = \"Hello, world! This is a basic tokenizer.\"\n",
    "tokenizer = Tokenizer(text)\n",
    "tokens = tokenizer.tokenize()\n",
    "\n",
    "print(\"Tokens:\")\n",
    "for token in tokens:\n",
    "    print(token)\n"
   ]
  },
  {
   "cell_type": "code",
   "execution_count": null,
   "id": "36e74cad-c40e-4f54-b157-d6d612a21ce6",
   "metadata": {},
   "outputs": [],
   "source": []
  }
 ],
 "metadata": {
  "kernelspec": {
   "display_name": "Python 3 (ipykernel)",
   "language": "python",
   "name": "python3"
  },
  "language_info": {
   "codemirror_mode": {
    "name": "ipython",
    "version": 3
   },
   "file_extension": ".py",
   "mimetype": "text/x-python",
   "name": "python",
   "nbconvert_exporter": "python",
   "pygments_lexer": "ipython3",
   "version": "3.12.4"
  }
 },
 "nbformat": 4,
 "nbformat_minor": 5
}
